{
  "nbformat": 4,
  "nbformat_minor": 0,
  "metadata": {
    "colab": {
      "provenance": [],
      "authorship_tag": "ABX9TyPmky8Z4RJBC5tdIy1QZ2wt",
      "include_colab_link": true
    },
    "kernelspec": {
      "name": "python3",
      "display_name": "Python 3"
    },
    "language_info": {
      "name": "python"
    }
  },
  "cells": [
    {
      "cell_type": "markdown",
      "metadata": {
        "id": "view-in-github",
        "colab_type": "text"
      },
      "source": [
        "<a href=\"https://colab.research.google.com/github/jyothisri2025/HTML-CSS/blob/main/dict_project.ipynb\" target=\"_parent\"><img src=\"https://colab.research.google.com/assets/colab-badge.svg\" alt=\"Open In Colab\"/></a>"
      ]
    },
    {
      "cell_type": "code",
      "execution_count": null,
      "metadata": {
        "colab": {
          "base_uri": "https://localhost:8080/"
        },
        "id": "PBecdimdnQeZ",
        "outputId": "875f7b39-7fe3-4175-8d17-d149abec42c0"
      },
      "outputs": [
        {
          "output_type": "stream",
          "name": "stdout",
          "text": [
            "Harry Potter\n",
            "Philosopher's Stone (1997)\n",
            "Chamber of Secrets (1998)\n",
            "Prisoner of Azkaban (1999)\n",
            "Goblet of Fire (2000)\n",
            "Order of the Phoenix (2003)\n",
            "Half-Blood Prince (2005)\n",
            "Deathly Hallows (2007)\n",
            "JK Rowling\n"
          ]
        }
      ],
      "source": [
        "with open(\"harry_potter.txt\",\"r\") as file:\n",
        "      content = file.read()\n",
        "print(content)"
      ]
    },
    {
      "cell_type": "code",
      "source": [
        "type(content)\n",
        "splitData = content.split('\\n')"
      ],
      "metadata": {
        "id": "Oc6TPnSPpVOX"
      },
      "execution_count": null,
      "outputs": []
    },
    {
      "cell_type": "code",
      "source": [
        "splitData"
      ],
      "metadata": {
        "colab": {
          "base_uri": "https://localhost:8080/"
        },
        "id": "BXI9OvKspYq5",
        "outputId": "321de78b-8835-4c3c-e59d-1b8541db7045"
      },
      "execution_count": null,
      "outputs": [
        {
          "output_type": "execute_result",
          "data": {
            "text/plain": [
              "['Harry Potter',\n",
              " \"Philosopher's Stone (1997)\",\n",
              " 'Chamber of Secrets (1998)',\n",
              " 'Prisoner of Azkaban (1999)',\n",
              " 'Goblet of Fire (2000)',\n",
              " 'Order of the Phoenix (2003)',\n",
              " 'Half-Blood Prince (2005)',\n",
              " 'Deathly Hallows (2007)',\n",
              " 'JK Rowling']"
            ]
          },
          "metadata": {},
          "execution_count": 13
        }
      ]
    },
    {
      "cell_type": "code",
      "source": [
        "key = splitData[0]"
      ],
      "metadata": {
        "id": "Fwy4Ypj_rodM"
      },
      "execution_count": null,
      "outputs": []
    },
    {
      "cell_type": "code",
      "source": [
        "key"
      ],
      "metadata": {
        "colab": {
          "base_uri": "https://localhost:8080/",
          "height": 35
        },
        "id": "nULTltyNrzRE",
        "outputId": "d0d869d3-11cc-464d-e5e1-39e11e7891e7"
      },
      "execution_count": null,
      "outputs": [
        {
          "output_type": "execute_result",
          "data": {
            "text/plain": [
              "'Harry Potter'"
            ],
            "application/vnd.google.colaboratory.intrinsic+json": {
              "type": "string"
            }
          },
          "metadata": {},
          "execution_count": 16
        }
      ]
    },
    {
      "cell_type": "code",
      "source": [
        "titleYear= splitData[1:-1]"
      ],
      "metadata": {
        "id": "xLJpKMWHsQNA"
      },
      "execution_count": null,
      "outputs": []
    },
    {
      "cell_type": "code",
      "source": [
        "titleYear"
      ],
      "metadata": {
        "colab": {
          "base_uri": "https://localhost:8080/"
        },
        "id": "-oLS-NMAsUzI",
        "outputId": "2e00a8a9-9633-49c7-9a8e-eb17df307e0d"
      },
      "execution_count": null,
      "outputs": [
        {
          "output_type": "execute_result",
          "data": {
            "text/plain": [
              "[\"Philosopher's Stone (1997)\",\n",
              " 'Chamber of Secrets (1998)',\n",
              " 'Prisoner of Azkaban (1999)',\n",
              " 'Goblet of Fire (2000)',\n",
              " 'Order of the Phoenix (2003)',\n",
              " 'Half-Blood Prince (2005)',\n",
              " 'Deathly Hallows (2007)']"
            ]
          },
          "metadata": {},
          "execution_count": 68
        }
      ]
    },
    {
      "cell_type": "code",
      "source": [
        "length = len(splitData)"
      ],
      "metadata": {
        "id": "U7eDQIizsVyo"
      },
      "execution_count": null,
      "outputs": []
    },
    {
      "cell_type": "code",
      "source": [
        "length"
      ],
      "metadata": {
        "colab": {
          "base_uri": "https://localhost:8080/"
        },
        "id": "6W2WDjoOspAP",
        "outputId": "3d458645-7551-4e73-8129-659306b091af"
      },
      "execution_count": null,
      "outputs": [
        {
          "output_type": "execute_result",
          "data": {
            "text/plain": [
              "9"
            ]
          },
          "metadata": {},
          "execution_count": 27
        }
      ]
    },
    {
      "cell_type": "code",
      "source": [
        "author = splitData[-1]"
      ],
      "metadata": {
        "id": "AxRYsm-as13X"
      },
      "execution_count": null,
      "outputs": []
    },
    {
      "cell_type": "code",
      "source": [
        "author"
      ],
      "metadata": {
        "colab": {
          "base_uri": "https://localhost:8080/",
          "height": 35
        },
        "id": "nv7e3KJks9VW",
        "outputId": "c598fb02-a490-4bdc-e883-326cf5f41aa8"
      },
      "execution_count": null,
      "outputs": [
        {
          "output_type": "execute_result",
          "data": {
            "text/plain": [
              "'JK Rowling'"
            ],
            "application/vnd.google.colaboratory.intrinsic+json": {
              "type": "string"
            }
          },
          "metadata": {},
          "execution_count": 39
        }
      ]
    },
    {
      "cell_type": "code",
      "source": [
        "titleList = []\n",
        "yearList = []\n",
        "for i in titleYear:\n",
        "    parts = i.split('(')\n",
        "    titleList.append(parts[0].strip())\n",
        "    yearList.append(parts[1].strip()[ :-1])\n",
        "\n"
      ],
      "metadata": {
        "id": "IOqEeSRrs-3n"
      },
      "execution_count": null,
      "outputs": []
    },
    {
      "cell_type": "code",
      "source": [
        "titleList"
      ],
      "metadata": {
        "colab": {
          "base_uri": "https://localhost:8080/"
        },
        "id": "_t74mAly1BiF",
        "outputId": "0ca2dfea-4d78-4c60-fd58-7ce9765b9b6e"
      },
      "execution_count": null,
      "outputs": [
        {
          "output_type": "execute_result",
          "data": {
            "text/plain": [
              "[\"Philosopher's Stone\",\n",
              " 'Chamber of Secrets',\n",
              " 'Prisoner of Azkaban',\n",
              " 'Goblet of Fire',\n",
              " 'Order of the Phoenix',\n",
              " 'Half-Blood Prince',\n",
              " 'Deathly Hallows']"
            ]
          },
          "metadata": {},
          "execution_count": 80
        }
      ]
    },
    {
      "cell_type": "code",
      "source": [
        "yearList"
      ],
      "metadata": {
        "colab": {
          "base_uri": "https://localhost:8080/"
        },
        "id": "XRr0vi7Q1Cad",
        "outputId": "2de0fe49-c49b-4305-d118-c0682789106e"
      },
      "execution_count": null,
      "outputs": [
        {
          "output_type": "execute_result",
          "data": {
            "text/plain": [
              "['1997', '1998', '1999', '2000', '2003', '2005', '2007']"
            ]
          },
          "metadata": {},
          "execution_count": 90
        }
      ]
    },
    {
      "cell_type": "code",
      "source": [
        "D = {}\n",
        "for i in range(1, length-1):\n",
        "    dKey = key + \" \" + str(i)\n",
        "    D[dKey]=\"none\"\n",
        "\n"
      ],
      "metadata": {
        "id": "aYcGbE8S6i_o"
      },
      "execution_count": null,
      "outputs": []
    },
    {
      "cell_type": "code",
      "source": [
        "\n",
        "D"
      ],
      "metadata": {
        "colab": {
          "base_uri": "https://localhost:8080/"
        },
        "id": "K7WPzXgC7BSH",
        "outputId": "34ee0732-cff5-4157-f8b4-b5ac8aac9fd7"
      },
      "execution_count": null,
      "outputs": [
        {
          "output_type": "execute_result",
          "data": {
            "text/plain": [
              "{'Harry Potter 1': 'none',\n",
              " 'Harry Potter 2': 'none',\n",
              " 'Harry Potter 3': 'none',\n",
              " 'Harry Potter 4': 'none',\n",
              " 'Harry Potter 5': 'none',\n",
              " 'Harry Potter 6': 'none',\n",
              " 'Harry Potter 7': 'none'}"
            ]
          },
          "metadata": {},
          "execution_count": 161
        }
      ]
    },
    {
      "cell_type": "code",
      "source": [
        "\n",
        "i=0\n",
        "for key in D:\n",
        "  D[key]= {\"title\":titleList[i],\"year\":yearList[i],\"author\":author}\n",
        "  i+=1"
      ],
      "metadata": {
        "id": "9yW7MtdABIh0"
      },
      "execution_count": null,
      "outputs": []
    },
    {
      "cell_type": "code",
      "source": [
        "for key in D:\n",
        "  print(key,D[key])"
      ],
      "metadata": {
        "colab": {
          "base_uri": "https://localhost:8080/"
        },
        "id": "gF3MbsnpC_8-",
        "outputId": "b1911bff-8b23-4439-e763-c077b11a8b20"
      },
      "execution_count": null,
      "outputs": [
        {
          "output_type": "stream",
          "name": "stdout",
          "text": [
            "Harry Potter 1 {'title': \"Philosopher's Stone\", 'year': '1997', 'author': 'JK Rowling'}\n",
            "Harry Potter 2 {'title': 'Chamber of Secrets', 'year': '1998', 'author': 'JK Rowling'}\n",
            "Harry Potter 3 {'title': 'Prisoner of Azkaban', 'year': '1999', 'author': 'JK Rowling'}\n",
            "Harry Potter 4 {'title': 'Goblet of Fire', 'year': '2000', 'author': 'JK Rowling'}\n",
            "Harry Potter 5 {'title': 'Order of the Phoenix', 'year': '2003', 'author': 'JK Rowling'}\n",
            "Harry Potter 6 {'title': 'Half-Blood Prince', 'year': '2005', 'author': 'JK Rowling'}\n",
            "Harry Potter 7 {'title': 'Deathly Hallows', 'year': '2007', 'author': 'JK Rowling'}\n"
          ]
        }
      ]
    },
    {
      "cell_type": "code",
      "source": [],
      "metadata": {
        "id": "WCzkvP_bDlHp"
      },
      "execution_count": null,
      "outputs": []
    }
  ]
}